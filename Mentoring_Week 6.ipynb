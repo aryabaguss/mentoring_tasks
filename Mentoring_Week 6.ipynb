{
  "nbformat": 4,
  "nbformat_minor": 0,
  "metadata": {
    "colab": {
      "provenance": [],
      "collapsed_sections": [
        "0DgsGgpoDWhj",
        "DjCgn0N5DWhj",
        "sMMfv8sK8jJz",
        "xsUAqsjvIBVH",
        "-boMqGSZKWrn",
        "2wXfc46gMBph",
        "zBwsNOpKirCd",
        "D3nQIQPWnIu9"
      ]
    },
    "kernelspec": {
      "name": "python3",
      "display_name": "Python 3"
    },
    "language_info": {
      "name": "python"
    }
  },
  "cells": [
    {
      "cell_type": "markdown",
      "source": [
        "# Week 6 - Python Programming\n",
        "---\n",
        "\n",
        "Mentoring Session - Job Preparation Program - Pacmann AI"
      ],
      "metadata": {
        "id": "oiHKP1fFcQg8"
      }
    },
    {
      "cell_type": "markdown",
      "source": [
        "# Task 1. User Registration\n",
        "\n",
        "Category: Medium\n",
        "\n",
        "---"
      ],
      "metadata": {
        "id": "EOdMk1QDDWhA"
      }
    },
    {
      "cell_type": "markdown",
      "source": [
        "## Task Descriptions\n",
        "---\n",
        "- Create two classes to add user, deactivate user, and summarize user"
      ],
      "metadata": {
        "id": "rw6bdBFrDWhh"
      }
    },
    {
      "cell_type": "markdown",
      "source": [
        "## Detail function\n",
        "---"
      ],
      "metadata": {
        "id": "0DgsGgpoDWhj"
      }
    },
    {
      "cell_type": "markdown",
      "source": [
        "- Create two classes called by `UserData` and `RegistrationData`\n",
        "- The `RegistrationData` class inherit the `UserData` class.\n",
        "- In `UserData` class\n",
        "  - You initialize the class without inserting any input\n",
        "    - When initialize, it automatically create parameter called by `user_data` (list)\n",
        "    - Example of `user_data`\n",
        "    ```python\n",
        "    [\n",
        "            {'user_id': 1, 'data': {'name': 'cahya', 'gender': 'male', 'status': 'active'}},\n",
        "            {'user_id': 2, 'data': {'name': 'dewa', 'gender': 'male', 'status': 'active'}},\n",
        "            {'user_id': 3, 'data': {'name': 'fanny', 'gender': 'female', 'status': 'inactive'}}\n",
        "    ]\n",
        "    ```\n",
        "  - `UserData` class has 1 method called by `summarize`\n",
        "    - This method print the number of all user & active user get from `user_data` (list)\n",
        "    - Example\n",
        "    ```\n",
        "        Data summary\n",
        "        ------------\n",
        "        Number of all user    : 3\n",
        "        Numebr of active user : 2\n",
        "    ```\n",
        "- In `RegistrationData` class\n",
        "  - `RegistrationData` has two methods: `add_user` and `deactivate_user`\n",
        "  - `add_user`\n",
        "    - Adding user data to `user_data`\n",
        "    - It needs two input: `name` (str) and `gender` (str)\n",
        "    - When called,\n",
        "        - You start to count from 1 and set it as the corresponding user id\n",
        "        - Then you add a dictionary of user data to `user_data`\n",
        "        - The dictionary have two keys: `user_id` and `data`\n",
        "        - The value of `user_id` is `int` while the value of `data` is another dictionary.\n",
        "        - Inside the `data` key, it has 3 other keys: `name`, `gender`, and `status` that tell user name, user gender, and user status (default value is `active`).\n",
        "    - So, if you call `add_user(name='cahya', gender='male')`, <br>then you will add `{'user_id': 1, 'data': {'name': 'cahya', 'gender': 'male', 'status': 'active'}` to `user_data`\n",
        "    - If you call again the function by `add_user(name='fany', gender='female')`, <br>then you will add `{'user_id': 2, 'data': {'name': 'fany', 'gender': 'female', 'status': 'active'}` to `user_data`\n",
        "    \n",
        "  - `deactivate_user`\n",
        "    - Deactive user status by its `id`\n",
        "    - It needs one input, `user_id` (int)\n",
        "    - And change the user status from `active` to `inactive`"
      ],
      "metadata": {
        "id": "wAKdUFoSDWhj"
      }
    },
    {
      "cell_type": "markdown",
      "source": [
        "## Examples\n",
        "---"
      ],
      "metadata": {
        "id": "DjCgn0N5DWhj"
      }
    },
    {
      "cell_type": "markdown",
      "source": [
        "**Input 1**\n",
        "\n",
        "```python\n",
        "# Create an object\n",
        "data = RegistrationData()\n",
        "\n",
        "# First month\n",
        "data.add_user(name='cahya', gender='male')      # add user\n",
        "data.add_user(name='dewa', gender='male')       # add user\n",
        "data.add_user(name='fanny', gender='female')    # add user\n",
        "data.deactivate_user(user_id=3)                 # deactivate Fanny\n",
        "\n",
        "# Get the data summary\n",
        "data.summarize()\n",
        "\n",
        "# Print all data\n",
        "print('Data')\n",
        "print('-----------')\n",
        "data.user_data\n",
        "```\n",
        "\n",
        "**Output 1**\n",
        "```\n",
        "Data summary\n",
        "------------\n",
        "Number of all user    : 3\n",
        "Number of active user : 2\n",
        "\n",
        "Data\n",
        "-----------\n",
        "[{'user_id': 1,\n",
        "  'data': {'name': 'cahya', 'gender': 'male', 'status': 'active'}},\n",
        " {'user_id': 2,\n",
        "  'data': {'name': 'dewa', 'gender': 'male', 'status': 'active'}},\n",
        " {'user_id': 3,\n",
        "  'data': {'name': 'fanny', 'gender': 'female', 'status': 'inactive'}}]\n",
        "```"
      ],
      "metadata": {
        "id": "L8Dx5aboDWhk"
      }
    },
    {
      "cell_type": "markdown",
      "source": [
        "---\n",
        "**Input 2**\n",
        "\n",
        "```python\n",
        "# Create an object\n",
        "data = RegistrationData()\n",
        "\n",
        "# First month\n",
        "data.add_user(name='cahya', gender='male')      # add user\n",
        "data.add_user(name='dewa', gender='male')       # add user\n",
        "data.add_user(name='fanny', gender='female')    # add user\n",
        "data.add_user(name='dron', gender='male')       # add user\n",
        "data.deactivate_user(user_id=2)                 # deactivate user\n",
        "data.add_user(name='gaby', gender='female')     # add user\n",
        "data.add_user(name='sativa', gender='female')   # add user\n",
        "data.deactivate_user(user_id=5)                 # deactivate user\n",
        "\n",
        "# Get the data summary\n",
        "data.summarize()\n",
        "\n",
        "# Print all data\n",
        "print('Data')\n",
        "print('-----------')\n",
        "data.user_data\n",
        "```\n",
        "\n",
        "**Output 2**\n",
        "```\n",
        "Data summary\n",
        "------------\n",
        "Number of all user    : 6\n",
        "Number of active user : 4\n",
        "\n",
        "Data\n",
        "-----------\n",
        "[{'user_id': 1,\n",
        "  'data': {'name': 'cahya', 'gender': 'male', 'status': 'active'}},\n",
        " {'user_id': 2,\n",
        "  'data': {'name': 'dewa', 'gender': 'male', 'status': 'inactive'}},\n",
        " {'user_id': 3,\n",
        "  'data': {'name': 'fanny', 'gender': 'female', 'status': 'active'}},\n",
        " {'user_id': 4,\n",
        "  'data': {'name': 'dron', 'gender': 'male', 'status': 'active'}},\n",
        " {'user_id': 5,\n",
        "  'data': {'name': 'gaby', 'gender': 'female', 'status': 'inactive'}},\n",
        " {'user_id': 6,\n",
        "  'data': {'name': 'sativa', 'gender': 'female', 'status': 'active'}}]\n",
        "```"
      ],
      "metadata": {
        "id": "eVQBZZbdPJBQ"
      }
    },
    {
      "cell_type": "markdown",
      "source": [
        "## Answer\n",
        "\n",
        "---\n",
        "- Provide the code for solving the problem\n",
        "- **Make sure your function follows the `Detail Function`**"
      ],
      "metadata": {
        "id": "utpLqcoTDWhl"
      }
    },
    {
      "cell_type": "code",
      "execution_count": null,
      "metadata": {
        "id": "2cMCngmBDWhl"
      },
      "outputs": [],
      "source": [
        "# Write your code here\n",
        "# Note: You can write your input manually\n",
        "\n",
        "user = []\n",
        "\n",
        "class UserData():\n",
        "  def __init__(self,data):\n",
        "    self.data = data # data source\n",
        "\n",
        "  def summarize(self):\n",
        "    total_users = len(self.data) # menghitung total user\n",
        "    active_user = [] # list untuk menampung active user\n",
        "\n",
        "    for user in self.data:\n",
        "      if user['data']['status'] == 'active':\n",
        "        active_user.append(user['data']['name'])\n",
        "\n",
        "\n",
        "    print(f'Number of all user : {total_users}')\n",
        "    print(f'Number of active user : {len(active_user)}')\n",
        "\n",
        "class RegisterData(UserData):\n",
        "  def __init__(self, data):\n",
        "    super().__init__(data) # Memanggil __init__ parent class menggunakan super()\n",
        "\n",
        "  def add_user(self, nama, gender):\n",
        "    self.nama = nama\n",
        "    self.gender = gender\n",
        "\n",
        "    new_id = len(self.data) + 1 # initiate new id untuk di create new user\n",
        "    status = 'active' # default value untuk status saat create new user\n",
        "\n",
        "    # menampung semua data untuk new_user\n",
        "    new_user = {\n",
        "        'user_id': new_id,\n",
        "        'data': {\n",
        "            'name': nama,\n",
        "            'gender': gender,\n",
        "            'status': status\n",
        "        }\n",
        "    }\n",
        "\n",
        "    self.data.append(new_user) #insert new_user ke datasource\n",
        "\n",
        "  def deactivate_user(self,id):\n",
        "    self.id = id\n",
        "    indx = id - 1 # setting index berdasarkan id\n",
        "\n",
        "    self.data[indx]['data']['status'] = 'inactive' # update status to inactive\n",
        "\n"
      ]
    },
    {
      "cell_type": "code",
      "source": [
        "user.clear()\n",
        "user_data = RegisterData(user)\n",
        "\n",
        "user_data.add_user('cahya','male')\n",
        "user_data.add_user('dewa','male')\n",
        "user_data.add_user('fanny','female')\n",
        "user_data.deactivate_user(3)\n",
        "\n",
        "user_data.summarize()\n",
        "\n",
        "print()\n",
        "print('Data')\n",
        "print('-----------')\n",
        "user"
      ],
      "metadata": {
        "id": "33_6r8Y3l7HI",
        "colab": {
          "base_uri": "https://localhost:8080/"
        },
        "outputId": "704dc9a5-7bde-4a58-95be-3e4071f7791b"
      },
      "execution_count": null,
      "outputs": [
        {
          "output_type": "stream",
          "name": "stdout",
          "text": [
            "Number of all user : 3\n",
            "Number of active user : 2\n",
            "\n",
            "Data\n",
            "-----------\n"
          ]
        },
        {
          "output_type": "execute_result",
          "data": {
            "text/plain": [
              "[{'user_id': 1,\n",
              "  'data': {'name': 'cahya', 'gender': 'male', 'status': 'active'}},\n",
              " {'user_id': 2,\n",
              "  'data': {'name': 'dewa', 'gender': 'male', 'status': 'active'}},\n",
              " {'user_id': 3,\n",
              "  'data': {'name': 'fanny', 'gender': 'female', 'status': 'inactive'}}]"
            ]
          },
          "metadata": {},
          "execution_count": 62
        }
      ]
    },
    {
      "cell_type": "code",
      "source": [
        "user.clear()\n",
        "\n",
        "user_data.add_user('cahya','male')\n",
        "user_data.add_user('dewa','male')\n",
        "user_data.add_user('fanny','female')\n",
        "user_data.add_user('dron','male')\n",
        "user_data.deactivate_user(2)\n",
        "user_data.add_user('gaby','female')\n",
        "user_data.add_user('sativa','female')\n",
        "user_data.deactivate_user(5)\n",
        "\n",
        "user_data.summarize()\n",
        "\n",
        "print()\n",
        "print('Data')\n",
        "print('-----------')\n",
        "user"
      ],
      "metadata": {
        "colab": {
          "base_uri": "https://localhost:8080/"
        },
        "id": "OJA7K9NNlV1a",
        "outputId": "bbe62480-c6fa-4e84-eb09-ee881037b9cf"
      },
      "execution_count": null,
      "outputs": [
        {
          "output_type": "stream",
          "name": "stdout",
          "text": [
            "Number of all user : 6\n",
            "Number of active user : 4\n",
            "\n",
            "Data\n",
            "-----------\n"
          ]
        },
        {
          "output_type": "execute_result",
          "data": {
            "text/plain": [
              "[{'user_id': 1,\n",
              "  'data': {'name': 'cahya', 'gender': 'male', 'status': 'active'}},\n",
              " {'user_id': 2,\n",
              "  'data': {'name': 'dewa', 'gender': 'male', 'status': 'inactive'}},\n",
              " {'user_id': 3,\n",
              "  'data': {'name': 'fanny', 'gender': 'female', 'status': 'active'}},\n",
              " {'user_id': 4,\n",
              "  'data': {'name': 'dron', 'gender': 'male', 'status': 'active'}},\n",
              " {'user_id': 5,\n",
              "  'data': {'name': 'gaby', 'gender': 'female', 'status': 'inactive'}},\n",
              " {'user_id': 6,\n",
              "  'data': {'name': 'sativa', 'gender': 'female', 'status': 'active'}}]"
            ]
          },
          "metadata": {},
          "execution_count": 63
        }
      ]
    },
    {
      "cell_type": "markdown",
      "source": [
        "# Task 2. Normalize Data\n",
        "\n",
        "Category: Medium\n",
        "\n",
        "---"
      ],
      "metadata": {
        "id": "sMMfv8sK8jJz"
      }
    },
    {
      "cell_type": "markdown",
      "source": [
        "## Task Descriptions\n",
        "---\n",
        "- Create a class to normalize a set of data"
      ],
      "metadata": {
        "id": "8hXTw4yi8jKc"
      }
    },
    {
      "cell_type": "markdown",
      "source": [
        "**What is a normalization?**\n",
        "\n",
        "- Convert a set of data to have minimum value of 0.0 and maximum value of 1.0.\n",
        "- How to **transform** or **normalize** a data?\n",
        "\n",
        "$$\n",
        "x^{(\\text{new})}_{i}\n",
        "=\n",
        "\\cfrac\n",
        "{x^{(\\text{old})}_{i} - \\min(x^{(\\text{old})})}\n",
        "{\\max(x^{(\\text{old})}) - \\min(x^{(\\text{old})})}\n",
        "$$"
      ],
      "metadata": {
        "id": "SUwh0w7q8jKd"
      }
    },
    {
      "cell_type": "markdown",
      "source": [
        "**Examples**\n",
        "- Let, `x = [-3, -9, 0, 8, 11]`\n",
        "- We know that\n",
        "  - `min(x) = -9`\n",
        "  - `max(x) = 11`\n",
        "- Then\n",
        "\n",
        "$$\n",
        "\\begin{align*}\n",
        "x^{(\\text{new})}_{1}\n",
        "&=\n",
        "\\cfrac\n",
        "{x^{(\\text{old})}_{1} - \\min(x^{(\\text{old})})}\n",
        "{\\max(x^{(\\text{old})}) - \\min(x^{(\\text{old})})} \\\\\n",
        "x^{(\\text{new})}_{1}\n",
        "&=\n",
        "\\cfrac\n",
        "{-3 - (-9)}\n",
        "{11 - (-9)} \\\\\n",
        "x^{(\\text{new})}_{1}\n",
        "&=\n",
        "\\cfrac\n",
        "{6}\n",
        "{20} \\\\\n",
        "x^{(\\text{new})}_{1}\n",
        "&= 0.3\n",
        "\\end{align*}\n",
        "$$\n",
        "\n",
        "- Doing to all the `x`, we will have `x_normalized = [0.30, 0.00, 0.45, 0.05, 1.00]`"
      ],
      "metadata": {
        "id": "xQ3daWFINKKn"
      }
    },
    {
      "cell_type": "markdown",
      "source": [
        "## Detail function\n",
        "---"
      ],
      "metadata": {
        "id": "R_bPLY6K8jKe"
      }
    },
    {
      "cell_type": "markdown",
      "source": [
        "- Create a class named `Normalizer`\n",
        "- You can initialize the class without any input.\n",
        "- The `Normalizer` has three method\n",
        "  1. `fit`\n",
        "    - Have one input: `data` (list)\n",
        "    - To get the minimum & maximum value of data\n",
        "  2. `transform`\n",
        "    - Have one input: `data` (list)\n",
        "    - Have one output: `data_scaled` (list)\n",
        "    - Normalize the input data\n",
        "  3. `inverse_transform`\n",
        "    - Have one input: `data` (list)\n",
        "    - Have one output: `data_inv_scaled` (list)\n",
        "    - Return the normalize data to the initial data\n",
        "- The `Normalizer` has three parameters\n",
        "  1. `min`, contain the minimum value of the data\n",
        "  2. `max`, contain the maximum value of the data"
      ],
      "metadata": {
        "id": "ZD-sReJ7Pal9"
      }
    },
    {
      "cell_type": "markdown",
      "source": [
        "## Examples\n",
        "---"
      ],
      "metadata": {
        "id": "mukt9DGJ8jKf"
      }
    },
    {
      "cell_type": "markdown",
      "source": [
        "**Input 1**\n",
        "\n",
        "```python\n",
        "# Define a data to normalize\n",
        "x = [-3, -9, 0, 8, 11]\n",
        "\n",
        "# 1. Initialize a Normalizer object\n",
        "scaler = Normalizer()\n",
        "\n",
        "# 2. Fit the data\n",
        "scaler.fit(data = x)\n",
        "print('min value    :', scaler.min)\n",
        "print('max value    :', scaler.max)\n",
        "\n",
        "# 3. Transform data\n",
        "x_scaled = scaler.transform(data = x)\n",
        "print('x initial    :', x)\n",
        "print('x scaled     :', x_scaled)\n",
        "\n",
        "# 4. Transform back the scaled data\n",
        "x_inv_scaled = scaler.inverse_transform(data = x_scaled)\n",
        "print('x inv scaled :', x_inv_scaled)\n",
        "```\n",
        "\n",
        "**Output 1**\n",
        "```\n",
        "min value    : -9\n",
        "max value    : 11\n",
        "x initial    : [-3, -9, 0, 8, 11]\n",
        "x scaled     : [0.3, 0.0, 0.45, 0.85, 1.0]\n",
        "x inv scaled : [-3.0, -9.0, 0.0, 8.0, 11.0]\n",
        "```"
      ],
      "metadata": {
        "id": "tCEZyyOBQe8M"
      }
    },
    {
      "cell_type": "markdown",
      "source": [
        "---\n",
        "**Input 2**\n",
        "\n",
        "```python\n",
        "# Define a data to normalize\n",
        "x = [8, -3.7, 9, 8.2, 100, 8.9, 4.3, 12.5, -20.0, 3.2]\n",
        "\n",
        "# 1. Initialize a Normalizer object\n",
        "scaler = Normalizer()\n",
        "\n",
        "# 2. Fit the data\n",
        "scaler.fit(data = x)\n",
        "print('min value    :', scaler.min)\n",
        "print('max value    :', scaler.max)\n",
        "\n",
        "# 3. Transform data\n",
        "x_scaled = scaler.transform(data = x)\n",
        "print('x initial    :', x)\n",
        "print('x scaled     :', x_scaled)\n",
        "\n",
        "# 4. Transform back the scaled data\n",
        "x_inv_scaled = scaler.inverse_transform(data = x_scaled)\n",
        "print('x inv scaled :', x_inv_scaled)\n",
        "```\n",
        "\n",
        "**Output 2**\n",
        "```\n",
        "min value    : -20.0\n",
        "max value    : 100\n",
        "x initial    : [8, -3.7, 9, 8.2, 100, 8.9, 4.3, 12.5, -20.0, 3.2]\n",
        "x scaled     : [0.23333333333333334, 0.13583333333333333, 0.24166666666666667, 0.235, 1.0, 0.24083333333333332, 0.2025, 0.2708333333333333, 0.0, 0.19333333333333333]\n",
        "x inv scaled : [8.0, -3.6999999999999993, 9.0, 8.2, 100.0, 8.899999999999999, 4.300000000000001, 12.5, -20.0, 3.1999999999999993]\n",
        "```"
      ],
      "metadata": {
        "id": "GhnafjbwSaKB"
      }
    },
    {
      "cell_type": "markdown",
      "source": [
        "---\n",
        "**Input 3 - SPECIAL INPUT**\n",
        "\n",
        "```python\n",
        "# Define a data to normalize\n",
        "x = [8, -3.7, 9, 8.2, 8.9, 4.3, 12.5, -20.0, 3.2]\n",
        "\n",
        "# 1. Initialize a Normalizer object\n",
        "scaler = Normalizer()\n",
        "\n",
        "# 2. Fit the data\n",
        "scaler.fit(data = x)\n",
        "print('min value    :', scaler.min)\n",
        "print('max value    :', scaler.max)\n",
        "\n",
        "# 3. Transform data\n",
        "x_scaled = scaler.transform(data = x)\n",
        "print('x initial    :', x)\n",
        "print('x scaled     :', x_scaled)\n",
        "\n",
        "# 4. Transform another data\n",
        "x_new = [4.0, 3.0, -2.0, 1.0, 9.0, 8.0]\n",
        "x_new_scaled = scaler.transform(data = x_new)\n",
        "print('x new init   :', x_new)\n",
        "print('x new scaled :', x_new_scaled)\n",
        "```\n",
        "\n",
        "**Output 3**\n",
        "```\n",
        "min value    : -20.0\n",
        "max value    : 12.5\n",
        "x initial    : [8, -3.7, 9, 8.2, 8.9, 4.3, 12.5, -20.0, 3.2]\n",
        "x scaled     : [0.8615384615384616, 0.5015384615384616, 0.8923076923076924, 0.8676923076923077, 0.8892307692307692, 0.7476923076923078, 1.0, 0.0, 0.7138461538461538]\n",
        "x new init   : [4.0, 3.0, -2.0, 1.0, 9.0, 8.0]\n",
        "x new scaled : [0.7384615384615385, 0.7076923076923077, 0.5538461538461539, 0.6461538461538462, 0.8923076923076924, 0.8615384615384616]\n",
        "```"
      ],
      "metadata": {
        "id": "hJlq8usaTbSW"
      }
    },
    {
      "cell_type": "markdown",
      "source": [
        "## Answer\n",
        "\n",
        "---\n",
        "- Provide the code for solving the problem\n",
        "- **Make sure your function follows the `Detail Function`**"
      ],
      "metadata": {
        "id": "03X_QrF38jKh"
      }
    },
    {
      "cell_type": "code",
      "execution_count": 15,
      "metadata": {
        "id": "oSWuJ6g08jKi"
      },
      "outputs": [],
      "source": [
        "# Write your code here\n",
        "# Note: You can write your input manually\n",
        "\n",
        "class Normalizer:\n",
        "  data_scaled = []\n",
        "  data_inv_scaled = []\n",
        "\n",
        "  def fit(self,data):\n",
        "    self.min_value = min(data)\n",
        "    self.max_value = max(data)\n",
        "\n",
        "  def transform(self,data):\n",
        "    self.data_scaled.clear()\n",
        "\n",
        "    for num in range(len(data)):\n",
        "      new_data = (data[num] - self.min_value) / (self.max_value - self.min_value)\n",
        "      new_data = float(new_data)\n",
        "\n",
        "      self.data_scaled.append(new_data)\n",
        "\n",
        "    return self.data_scaled\n",
        "\n",
        "\n",
        "  def inverse_transform(self,data):\n",
        "    self.data_inv_scaled.clear()\n",
        "\n",
        "    for num in range(len(data)):\n",
        "      inv_data = (self.data_scaled[num] * (self.max_value - self.min_value)) + self.min_value\n",
        "      inv_data = float(inv_data)\n",
        "\n",
        "      self.data_inv_scaled.append(inv_data)\n",
        "\n",
        "    return self.data_inv_scaled\n",
        "\n",
        "\n"
      ]
    },
    {
      "cell_type": "markdown",
      "source": [
        "**Output 1**"
      ],
      "metadata": {
        "id": "JA2EnJfH2qHk"
      }
    },
    {
      "cell_type": "code",
      "source": [
        "# Define a data to normalize\n",
        "x = [-3, -9, 0, 8, 11]\n",
        "\n",
        "# 1. Initialize a Normalizer object\n",
        "scaler = Normalizer()\n",
        "\n",
        "# 2. Fit the data\n",
        "scaler.fit(x)\n",
        "print(f'Min Value: {scaler.min_value}')\n",
        "print(f'Min Value: {scaler.max_value}')\n",
        "\n",
        "# 3. Transform data\n",
        "x_scaled = scaler.transform(x)\n",
        "print(f'x initial    : {x}')\n",
        "print(f'x scaled     : {x_scaled}')\n",
        "\n",
        "# 4. Transform back the scaled data\n",
        "x_inv_scaled = scaler.inverse_transform(x)\n",
        "print(f'x inv scaled : {x_inv_scaled}')\n"
      ],
      "metadata": {
        "colab": {
          "base_uri": "https://localhost:8080/"
        },
        "id": "hkzDk6fjsLii",
        "outputId": "b566bf81-4179-4a00-fa3c-ec58d67b90b9"
      },
      "execution_count": 16,
      "outputs": [
        {
          "output_type": "stream",
          "name": "stdout",
          "text": [
            "Min Value: -9\n",
            "Min Value: 11\n",
            "x initial    : [-3, -9, 0, 8, 11]\n",
            "x scaled     : [0.3, 0.0, 0.45, 0.85, 1.0]\n",
            "x inv scaled : [-3.0, -9.0, 0.0, 8.0, 11.0]\n"
          ]
        }
      ]
    },
    {
      "cell_type": "markdown",
      "source": [
        "**Output 2**"
      ],
      "metadata": {
        "id": "ap_AKPYC2sFh"
      }
    },
    {
      "cell_type": "code",
      "source": [
        "# Define a data to normalize\n",
        "x = [8, -3.7, 9, 8.2, 100, 8.9, 4.3, 12.5, -20.0, 3.2]\n",
        "\n",
        "# 1. Initialize a Normalizer object\n",
        "scaler = Normalizer()\n",
        "\n",
        "# 2. Fit the data\n",
        "scaler.fit(x)\n",
        "print(f'Min Value: {scaler.min_value}')\n",
        "print(f'Min Value: {scaler.max_value}')\n",
        "\n",
        "# 3. Transform data\n",
        "x_scaled = scaler.transform(x)\n",
        "print(f'x initial    : {x}')\n",
        "print(f'x scaled     : {x_scaled}')\n",
        "\n",
        "# 4. Transform back the scaled data\n",
        "x_inv_scaled = scaler.inverse_transform(x)\n",
        "print(f'x inv scaled : {x_inv_scaled}')"
      ],
      "metadata": {
        "colab": {
          "base_uri": "https://localhost:8080/"
        },
        "id": "9tzRHrLHts6t",
        "outputId": "2227d009-16d2-43c3-c97b-0ef93a5fa932"
      },
      "execution_count": 17,
      "outputs": [
        {
          "output_type": "stream",
          "name": "stdout",
          "text": [
            "Min Value: -20.0\n",
            "Min Value: 100\n",
            "x initial    : [8, -3.7, 9, 8.2, 100, 8.9, 4.3, 12.5, -20.0, 3.2]\n",
            "x scaled     : [0.23333333333333334, 0.13583333333333333, 0.24166666666666667, 0.235, 1.0, 0.24083333333333332, 0.2025, 0.2708333333333333, 0.0, 0.19333333333333333]\n",
            "x inv scaled : [8.0, -3.6999999999999993, 9.0, 8.2, 100.0, 8.899999999999999, 4.300000000000001, 12.5, -20.0, 3.1999999999999993]\n"
          ]
        }
      ]
    },
    {
      "cell_type": "markdown",
      "source": [
        "**Output 3**"
      ],
      "metadata": {
        "id": "nqiNc4z-2ttX"
      }
    },
    {
      "cell_type": "code",
      "source": [
        "# Define a data to normalize\n",
        "x = [8, -3.7, 9, 8.2, 8.9, 4.3, 12.5, -20.0, 3.2]\n",
        "\n",
        "# 1. Initialize a Normalizer object\n",
        "scaler = Normalizer()\n",
        "\n",
        "# 2. Fit the data\n",
        "scaler.fit(x)\n",
        "print(f'Min Value: {scaler.min_value}')\n",
        "print(f'Min Value: {scaler.max_value}')\n",
        "\n",
        "# 3. Transform data\n",
        "x_scaled = scaler.transform(x)\n",
        "print(f'x initial    : {x}')\n",
        "print(f'x scaled     : {x_scaled}')\n",
        "\n",
        "# 4. Transform another data\n",
        "x_new = [4.0, 3.0, -2.0, 1.0, 9.0, 8.0]\n",
        "x_new_scaled = scaler.transform(x_new)\n",
        "print('x new init   :', x_new)\n",
        "print('x new scaled :', x_new_scaled)"
      ],
      "metadata": {
        "colab": {
          "base_uri": "https://localhost:8080/"
        },
        "id": "rTkA-3p3yDzv",
        "outputId": "c987c7ef-f845-4608-ce04-4fa52e309d08"
      },
      "execution_count": 18,
      "outputs": [
        {
          "output_type": "stream",
          "name": "stdout",
          "text": [
            "Min Value: -20.0\n",
            "Min Value: 12.5\n",
            "x initial    : [8, -3.7, 9, 8.2, 8.9, 4.3, 12.5, -20.0, 3.2]\n",
            "x scaled     : [0.8615384615384616, 0.5015384615384616, 0.8923076923076924, 0.8676923076923077, 0.8892307692307692, 0.7476923076923078, 1.0, 0.0, 0.7138461538461538]\n",
            "x new init   : [4.0, 3.0, -2.0, 1.0, 9.0, 8.0]\n",
            "x new scaled : [0.7384615384615385, 0.7076923076923077, 0.5538461538461539, 0.6461538461538462, 0.8923076923076924, 0.8615384615384616]\n"
          ]
        }
      ]
    },
    {
      "cell_type": "code",
      "source": [],
      "metadata": {
        "id": "C0XMNh5WyYLh"
      },
      "execution_count": null,
      "outputs": []
    },
    {
      "cell_type": "markdown",
      "source": [
        "# Task 3. Word Mapper\n",
        "\n",
        "Category: Hard\n",
        "\n",
        "---"
      ],
      "metadata": {
        "id": "1Lvmi7SKAR2A"
      }
    },
    {
      "cell_type": "markdown",
      "source": [
        "## Task Descriptions\n",
        "---\n",
        "- Create a class to convert word to numeric"
      ],
      "metadata": {
        "id": "KOrJ-tmbAR2X"
      }
    },
    {
      "cell_type": "markdown",
      "source": [
        "**Word to numeric**\n",
        "- When analyzing a text document, we usually convert the given word to numbers thus we can perform a numerical operation."
      ],
      "metadata": {
        "id": "5oeDx6NCAR2X"
      }
    },
    {
      "cell_type": "markdown",
      "source": [
        "**Example**\n",
        "- Given a list of words\n",
        "\n",
        "```python\n",
        "google_reviews = [\n",
        "    ['Aplikasinya berjalan dengan baik. Senang'],\n",
        "    ['Kurang suka. Waktu loading pembayaran terlalu lama'],\n",
        "    ['Butuh perbaiki loading dari aplikasi yang terlalu lama'],\n",
        "    ['Cepat proses installasinya'],\n",
        "    ['Kenapa tidak bisa top up bos ?'],\n",
        "    ['Suka suka suka']\n",
        "]\n",
        "```\n",
        "\n",
        "- To convert the list to number, first we need to create the bag of word, i.e. all unique words from the given reviews.\n",
        "\n",
        "```python\n",
        "bag_of_words = [\n",
        "    'aplikasi', 'aplikasinya', 'baik.', 'berjalan',\n",
        "    'bisa', 'bos?', 'butuh', 'cepat', 'dari',\n",
        "    'dengan', 'installasinya', 'kenapa', 'kurang',\n",
        "    'lama', 'loading', 'pembayaran', 'perbaiki',\n",
        "    'proses', 'senang', 'suka', 'suka.',\n",
        "    'terlalu', 'tidak', 'top', 'up',\n",
        "    'waktu', 'yang']\n",
        "```\n",
        "\n",
        "- After that, you can create a map, i.e. `words -> number`\n",
        "\n",
        "```python\n",
        "word_to_index = {\n",
        "    'aplikasi': 0,\n",
        "    'aplikasinya': 1,\n",
        "    'baik.': 2,\n",
        "    'berjalan': 3,\n",
        "    'bisa': 4,\n",
        "    'bos?': 5,\n",
        "    'butuh': 6,\n",
        "    'cepat': 7,\n",
        "    'dari': 8,\n",
        "    'dengan': 9,\n",
        "    'installasinya': 10,\n",
        "    'kenapa': 11,\n",
        "    'kurang': 12,\n",
        "    'lama': 13,\n",
        "    'loading': 14,\n",
        "    'pembayaran': 15,\n",
        "    'perbaiki': 16,\n",
        "    'proses': 17,\n",
        "    'senang': 18,\n",
        "    'suka': 19,\n",
        "    'suka.': 20,\n",
        "    'terlalu': 21,\n",
        "    'tidak': 22,\n",
        "    'top': 23,\n",
        "    'up': 24,\n",
        "    'waktu': 25,\n",
        "    'yang': 26\n",
        "}\n",
        "```\n",
        "\n",
        "- With the above map, we switch the word with the corresponding number.\n",
        "- Say the sentence is `['Aplikasinya berjalan']`, then the converted sentence is `[1, 3]`\n",
        "\n",
        "- Finally, you can map the whole google reviews to\n",
        "\n",
        "```python\n",
        "google_reviews_transformed = [\n",
        "    [1, 3, 9, 2, 18],\n",
        "    [12, 20, 25, 14, 15, 21, 13],\n",
        "    [6, 16, 14, 8, 0, 26, 21, 13],\n",
        "    [7, 17, 10],\n",
        "    [11, 22, 4, 23, 24, 5],\n",
        "    [19, 19, 19]\n",
        "]\n",
        "```"
      ],
      "metadata": {
        "id": "AaGDyJNkX33k"
      }
    },
    {
      "cell_type": "code",
      "source": [
        "class Mapper:\n",
        "    def fit(self)\n",
        "\n",
        "    def transform(self)\n",
        "\n",
        "    def inverse(self)"
      ],
      "metadata": {
        "id": "ggodGJZJ-XH-"
      },
      "execution_count": null,
      "outputs": []
    },
    {
      "cell_type": "markdown",
      "source": [
        "## Detail function\n",
        "---"
      ],
      "metadata": {
        "id": "fTGn2luKAR2Y"
      }
    },
    {
      "cell_type": "markdown",
      "source": [
        "- Create a class called by `Mapper`\n",
        "- `Mapper` could be initialize without inserting any input\n",
        "- `Mapper` has several method:\n",
        "  - `fit`\n",
        "    - To create a bag of word and word-to-index mapper from a given `sentence_list`\n",
        "    - Has 1 input, `sentence_list` (list)\n",
        "    - Has no output\n",
        "  - `transform`\n",
        "    - To transform a `sentence_list` to number based on the obtained bag of words and word-to-index mapper\n",
        "    - Has 1 input, `sentence_list` (list)\n",
        "    - Has 1 output, `sentence_list_transformed` (list)\n",
        "  - `inverse_transform`\n",
        "    - To inverse transform number to word based on the obtained bag of words and word-to-index mapper\n",
        "    - Has 1 input, `sentence_list_number` (list)\n",
        "    - Has 1 output, `sentence_list` (list)\n",
        "\n",
        "- `Mapper` has several parameters:\n",
        "  - `bag_of_words` (list), contain all the unique word from the given sentence list (in an alphabetical order)\n",
        "  - `word_to_index` (dictionary), contain a map of word to index based on the given `bag_of_words`"
      ],
      "metadata": {
        "id": "tEaLWiIZAR2Y"
      }
    },
    {
      "cell_type": "markdown",
      "source": [
        "## Examples\n",
        "---"
      ],
      "metadata": {
        "id": "k7TYvpqPAR2Z"
      }
    },
    {
      "cell_type": "markdown",
      "source": [
        "**Input 1**\n",
        "\n",
        "```python\n",
        "# Google review comments\n",
        "google_reviews = [\n",
        "    ['Aplikasinya berjalan dengan baik. Senang'],\n",
        "    ['Kurang suka. Waktu loading pembayaran terlalu lama'],\n",
        "    ['Butuh perbaiki loading dari aplikasi yang terlalu lama'],\n",
        "    ['Cepat proses installasinya'],\n",
        "    ['Kenapa tidak bisa top up bos?'],\n",
        "    ['Suka suka suka']\n",
        "]\n",
        "\n",
        "# Create a Mapper object\n",
        "map_obj = Mapper()\n",
        "\n",
        "# Fit the mapper\n",
        "map_obj.fit(sentence_list = google_reviews)\n",
        "print('Bag of Words:')\n",
        "print(map_obj.bag_of_words)\n",
        "print('')\n",
        "print('Word to Index:')\n",
        "print(map_obj.word_to_index)\n",
        "print('')\n",
        "\n",
        "# Transform the reviews\n",
        "reviews_transformed = map_obj.transform(sentence_list = google_reviews)\n",
        "print('Transformed reviews:')\n",
        "print(reviews_transformed)\n",
        "print('')\n",
        "\n",
        "\n",
        "# Inverse transform the transformed reviews\n",
        "reviews_inv_transformed = map_obj.inverse_transform(sentence_list_number = reviews_transformed)\n",
        "print('Inverse transformed reviews:')\n",
        "print(reviews_inv_transformed)\n",
        "print('')\n",
        "```\n",
        "\n",
        "**Output 1**\n",
        "```python\n",
        "Bag of Words:\n",
        "['aplikasi', 'aplikasinya', 'baik.', 'berjalan', 'bisa', 'bos?', 'butuh', 'cepat', 'dari', 'dengan', 'installasinya', 'kenapa', 'kurang', 'lama', 'loading', 'pembayaran', 'perbaiki', 'proses', 'senang', 'suka', 'suka.', 'terlalu', 'tidak', 'top', 'up', 'waktu', 'yang']\n",
        "\n",
        "Word to Index:\n",
        "{'aplikasi': 0, 'aplikasinya': 1, 'baik.': 2, 'berjalan': 3, 'bisa': 4, 'bos?': 5, 'butuh': 6, 'cepat': 7, 'dari': 8, 'dengan': 9, 'installasinya': 10, 'kenapa': 11, 'kurang': 12, 'lama': 13, 'loading': 14, 'pembayaran': 15, 'perbaiki': 16, 'proses': 17, 'senang': 18, 'suka': 19, 'suka.': 20, 'terlalu': 21, 'tidak': 22, 'top': 23, 'up': 24, 'waktu': 25, 'yang': 26}\n",
        "\n",
        "Transformed reviews:\n",
        "[[1, 3, 9, 2, 18], [12, 20, 25, 14, 15, 21, 13], [6, 16, 14, 8, 0, 26, 21, 13], [7, 17, 10], [11, 22, 4, 23, 24, 5], [19, 19, 19]]\n",
        "\n",
        "Inverse transformed reviews:\n",
        "['aplikasinya berjalan dengan baik. senang', 'kurang suka. waktu loading pembayaran terlalu lama', 'butuh perbaiki loading dari aplikasi yang terlalu lama', 'cepat proses installasinya', 'kenapa tidak bisa top up bos?', 'suka suka suka']\n",
        "```"
      ],
      "metadata": {
        "id": "xBisqn3HAR2Z"
      }
    },
    {
      "cell_type": "markdown",
      "source": [
        "---\n",
        "**Input 2**\n",
        "\n",
        "```python\n",
        "# Text: Data Mining dan Contoh Penerapannya untuk Perusahaan\n",
        "# From: https://pacmann.io/blog/data-mining-dan-contoh-penerapannya-untuk-perusahaan\n",
        "doc_text = [\n",
        "    ['Dewasa ini, data mining sudah digunakan nyaris di berbagai industri.'],\n",
        "    ['Seiring budaya informasi berbasis data kian menguat, peran data mining juga semakin vital bagi bisnis.'],\n",
        "    ['Dengan data mining, perusahaan mampu menggali informasi berharga mengenai perilaku konsumen, tren industri, dan masih banyak lagi.'],\n",
        "    ['Berikut adalah beberapa di antaranya'],\n",
        "    ['Mengumpulkan informasi yang reliabel dan faktual'],\n",
        "    ['Mendeteksi dan mencegah penipuan'],\n",
        "    ['Mengidentifikasi risiko'],\n",
        "    ['Merespon perubahan tren dalam industri'],\n",
        "    ['Membuat keputusan yang berbasis data'],\n",
        "    ['Meningkatkan hubungan dengan konsumen'],\n",
        "    ['Kendati demikian, proses data mining juga tidak selalu berjalan sesuai harapan.'],\n",
        "    ['Ada beberapa permasalahan yang kerap ditemui dalam data mining di perusahaan.']\n",
        "]\n",
        "\n",
        "# Create a Mapper object\n",
        "map_obj = Mapper()\n",
        "\n",
        "# Fit the mapper\n",
        "map_obj.fit(sentence_list = doc_text)\n",
        "print('Bag of Words:')\n",
        "print(map_obj.bag_of_words)\n",
        "print('')\n",
        "print('Word to Index:')\n",
        "print(map_obj.word_to_index)\n",
        "print('')\n",
        "\n",
        "# Transform the reviews\n",
        "text_transformed = map_obj.transform(sentence_list = doc_text)\n",
        "print('Transformed text:')\n",
        "print(text_transformed)\n",
        "print('')\n",
        "\n",
        "\n",
        "# Inverse transform the transformed text\n",
        "text_inv_transformed = map_obj.inverse_transform(sentence_list_number = text_transformed)\n",
        "print('Inverse transformed text:')\n",
        "print(text_inv_transformed)\n",
        "print('')\n",
        "```\n",
        "\n",
        "**Output 2**\n",
        "```python\n",
        "Bag of Words:\n",
        "['ada', 'adalah', 'antaranya', 'bagi', 'banyak', 'beberapa', 'berbagai', 'berbasis', 'berharga', 'berikut', 'berjalan', 'bisnis.', 'budaya', 'dalam', 'dan', 'data', 'demikian,', 'dengan', 'dewasa', 'di', 'digunakan', 'ditemui', 'faktual', 'harapan.', 'hubungan', 'industri', 'industri,', 'industri.', 'informasi', 'ini,', 'juga', 'kendati', 'keputusan', 'kerap', 'kian', 'konsumen', 'konsumen,', 'lagi.', 'mampu', 'masih', 'membuat', 'mencegah', 'mendeteksi', 'mengenai', 'menggali', 'mengidentifikasi', 'menguat,', 'mengumpulkan', 'meningkatkan', 'merespon', 'mining', 'mining,', 'nyaris', 'penipuan', 'peran', 'perilaku', 'permasalahan', 'perubahan', 'perusahaan', 'perusahaan.', 'proses', 'reliabel', 'risiko', 'seiring', 'selalu', 'semakin', 'sesuai', 'sudah', 'tidak', 'tren', 'vital', 'yang']\n",
        "\n",
        "Word to Index:\n",
        "{'ada': 0, 'adalah': 1, 'antaranya': 2, 'bagi': 3, 'banyak': 4, 'beberapa': 5, 'berbagai': 6, 'berbasis': 7, 'berharga': 8, 'berikut': 9, 'berjalan': 10, 'bisnis.': 11, 'budaya': 12, 'dalam': 13, 'dan': 14, 'data': 15, 'demikian,': 16, 'dengan': 17, 'dewasa': 18, 'di': 19, 'digunakan': 20, 'ditemui': 21, 'faktual': 22, 'harapan.': 23, 'hubungan': 24, 'industri': 25, 'industri,': 26, 'industri.': 27, 'informasi': 28, 'ini,': 29, 'juga': 30, 'kendati': 31, 'keputusan': 32, 'kerap': 33, 'kian': 34, 'konsumen': 35, 'konsumen,': 36, 'lagi.': 37, 'mampu': 38, 'masih': 39, 'membuat': 40, 'mencegah': 41, 'mendeteksi': 42, 'mengenai': 43, 'menggali': 44, 'mengidentifikasi': 45, 'menguat,': 46, 'mengumpulkan': 47, 'meningkatkan': 48, 'merespon': 49, 'mining': 50, 'mining,': 51, 'nyaris': 52, 'penipuan': 53, 'peran': 54, 'perilaku': 55, 'permasalahan': 56, 'perubahan': 57, 'perusahaan': 58, 'perusahaan.': 59, 'proses': 60, 'reliabel': 61, 'risiko': 62, 'seiring': 63, 'selalu': 64, 'semakin': 65, 'sesuai': 66, 'sudah': 67, 'tidak': 68, 'tren': 69, 'vital': 70, 'yang': 71}\n",
        "\n",
        "Transformed text:\n",
        "[[18, 29, 15, 50, 67, 20, 52, 19, 6, 27], [63, 12, 28, 7, 15, 34, 46, 54, 15, 50, 30, 65, 70, 3, 11], [17, 15, 51, 58, 38, 44, 28, 8, 43, 55, 36, 69, 26, 14, 39, 4, 37], [9, 1, 5, 19, 2], [47, 28, 71, 61, 14, 22], [42, 14, 41, 53], [45, 62], [49, 57, 69, 13, 25], [40, 32, 71, 7, 15], [48, 24, 17, 35], [31, 16, 60, 15, 50, 30, 68, 64, 10, 66, 23], [0, 5, 56, 71, 33, 21, 13, 15, 50, 19, 59]]\n",
        "\n",
        "Inverse transformed text:\n",
        "['dewasa ini, data mining sudah digunakan nyaris di berbagai industri.', 'seiring budaya informasi berbasis data kian menguat, peran data mining juga semakin vital bagi bisnis.', 'dengan data mining, perusahaan mampu menggali informasi berharga mengenai perilaku konsumen, tren industri, dan masih banyak lagi.', 'berikut adalah beberapa di antaranya', 'mengumpulkan informasi yang reliabel dan faktual', 'mendeteksi dan mencegah penipuan', 'mengidentifikasi risiko', 'merespon perubahan tren dalam industri', 'membuat keputusan yang berbasis data', 'meningkatkan hubungan dengan konsumen', 'kendati demikian, proses data mining juga tidak selalu berjalan sesuai harapan.', 'ada beberapa permasalahan yang kerap ditemui dalam data mining di perusahaan.']\n",
        "```"
      ],
      "metadata": {
        "id": "mQnbYJYlAR2Z"
      }
    },
    {
      "cell_type": "markdown",
      "source": [
        "## Answer\n",
        "\n",
        "---\n",
        "- Provide the code for solving the problem\n",
        "- **Make sure your function follows the `Detail Function`**"
      ],
      "metadata": {
        "id": "2ifQ4p2BAR2Z"
      }
    },
    {
      "cell_type": "code",
      "execution_count": 157,
      "metadata": {
        "id": "QqG_g8VWAR2a"
      },
      "outputs": [],
      "source": [
        "# Write your code here\n",
        "# Note: You can write your input manually\n",
        "\n",
        "class Mapper:\n",
        "  #initiate fit method\n",
        "  def fit(self,sentence_list):\n",
        "    # create a set() because set don't allowed duplicate data\n",
        "    bag_words = set()\n",
        "\n",
        "    # loop for flatten the sentence_list\n",
        "    for index in sentence_list:\n",
        "      # loop to get the word inside the flatten list\n",
        "      for sentence in index:\n",
        "        sentence = sentence.lower().split() # made all word to a lowercase and split per word\n",
        "        bag_words.update(sentence) # insert sentence to bag_words set\n",
        "\n",
        "    # made a new list from set before\n",
        "    self.bag_of_words = list(bag_words)\n",
        "    self.bag_of_words.sort() # sort the list in alphabetical orders using method sort()\n",
        "\n",
        "    # create a new dictionary\n",
        "    self.word_to_index = {}\n",
        "\n",
        "    # loop to insert data into a dictionary with values by index\n",
        "    for i in range(len(self.bag_of_words)):\n",
        "      self.word_to_index[self.bag_of_words[i]] = i\n",
        "\n",
        "  #initiate transform method\n",
        "  def transform(self, sentence_list):\n",
        "    # create list to store transformed data\n",
        "    transformed = []\n",
        "\n",
        "    # loop for flatten the sentence list\n",
        "    for flat in sentence_list:\n",
        "      # create list to store values per list in loop\n",
        "      values_per_list = []\n",
        "\n",
        "      # loop for iterate sentence in flatten list\n",
        "      for sentence in flat:\n",
        "        sentence = sentence.lower().split()\n",
        "\n",
        "        # loop for iterate word in every sentence in list\n",
        "        for word in range(len(sentence)):\n",
        "          values = self.word_to_index[sentence[word]] # define values by calling the word == word_to_index dictionary keys\n",
        "          values_per_list.append(values) # append values into values_per_list list\n",
        "\n",
        "        #append values_per_list into transformed list, so it would be a nested list\n",
        "        transformed.append(values_per_list)\n",
        "\n",
        "    return transformed\n",
        "\n",
        "  # initiate inverse_transform method\n",
        "  def inverse_transform(self, sentence_list_number):\n",
        "    # create list and dictionary to store processed data\n",
        "    inverse_transformed = []\n",
        "    index_to_word = {}\n",
        "\n",
        "    # loop for iterate word and index from word_to_index dictionary\n",
        "    for word, index in self.word_to_index.items():\n",
        "      # insert data to a new dictionary where inverted the keys and values\n",
        "      index_to_word[index] = word\n",
        "\n",
        "    # loop to flatten the sentence_list_number\n",
        "    for flat in sentence_list_number:\n",
        "      word_per_list = []\n",
        "\n",
        "      # loop to define word by calling the values from new dictionary and append into word_per_list\n",
        "      for value in flat:\n",
        "        word = index_to_word[value]\n",
        "        word_per_list.append(word)\n",
        "\n",
        "      # join the word_per_list with ' ' so the result as a sentence not a word splitted like before\n",
        "      sentence_per_list = ' '.join(word_per_list)\n",
        "\n",
        "      # append the sentence_per_list into inverse_transformed list\n",
        "      inverse_transformed.append(sentence_per_list)\n",
        "\n",
        "    return inverse_transformed\n"
      ]
    },
    {
      "cell_type": "markdown",
      "source": [
        "**Output 1**"
      ],
      "metadata": {
        "id": "TTuChXdm6Xqi"
      }
    },
    {
      "cell_type": "code",
      "source": [
        "google_reviews = [\n",
        "    ['Aplikasinya berjalan dengan baik. Senang'],\n",
        "    ['Kurang suka. Waktu loading pembayaran terlalu lama'],\n",
        "    ['Butuh perbaiki loading dari aplikasi yang terlalu lama'],\n",
        "    ['Cepat proses installasinya'],\n",
        "    ['Kenapa tidak bisa top up bos?'],\n",
        "    ['Suka suka suka']\n",
        "]\n",
        "\n",
        "# Create a Mapper object\n",
        "map_obj = Mapper()\n",
        "\n",
        "# Fit the mapper\n",
        "map_obj.fit(google_reviews)\n",
        "print('Bag of Words:')\n",
        "print(map_obj.bag_of_words)\n",
        "print()\n",
        "print('Word to Index:')\n",
        "print(map_obj.word_to_index)\n",
        "print()\n",
        "\n",
        "# Transform the reviews\n",
        "reviews_transformed = map_obj.transform(google_reviews)\n",
        "print('Transformed reviews:')\n",
        "print(reviews_transformed)\n",
        "print()\n",
        "\n",
        "# Inverse transform the transformed reviews\n",
        "reviews_inv_transformed = map_obj.inverse_transform(reviews_transformed)\n",
        "print('Inverse transformed reviews:')\n",
        "print(reviews_inv_transformed)\n",
        "print()"
      ],
      "metadata": {
        "colab": {
          "base_uri": "https://localhost:8080/"
        },
        "id": "UjLjR7F9mucE",
        "outputId": "59b30a9f-9285-4a2c-85da-45e90e4a9e47"
      },
      "execution_count": 158,
      "outputs": [
        {
          "output_type": "stream",
          "name": "stdout",
          "text": [
            "Bag of Words:\n",
            "['aplikasi', 'aplikasinya', 'baik.', 'berjalan', 'bisa', 'bos?', 'butuh', 'cepat', 'dari', 'dengan', 'installasinya', 'kenapa', 'kurang', 'lama', 'loading', 'pembayaran', 'perbaiki', 'proses', 'senang', 'suka', 'suka.', 'terlalu', 'tidak', 'top', 'up', 'waktu', 'yang']\n",
            "\n",
            "Word to Index:\n",
            "{'aplikasi': 0, 'aplikasinya': 1, 'baik.': 2, 'berjalan': 3, 'bisa': 4, 'bos?': 5, 'butuh': 6, 'cepat': 7, 'dari': 8, 'dengan': 9, 'installasinya': 10, 'kenapa': 11, 'kurang': 12, 'lama': 13, 'loading': 14, 'pembayaran': 15, 'perbaiki': 16, 'proses': 17, 'senang': 18, 'suka': 19, 'suka.': 20, 'terlalu': 21, 'tidak': 22, 'top': 23, 'up': 24, 'waktu': 25, 'yang': 26}\n",
            "\n",
            "Transformed reviews:\n",
            "[[1, 3, 9, 2, 18], [12, 20, 25, 14, 15, 21, 13], [6, 16, 14, 8, 0, 26, 21, 13], [7, 17, 10], [11, 22, 4, 23, 24, 5], [19, 19, 19]]\n",
            "\n",
            "Inverse transformed reviews:\n",
            "['aplikasinya berjalan dengan baik. senang', 'kurang suka. waktu loading pembayaran terlalu lama', 'butuh perbaiki loading dari aplikasi yang terlalu lama', 'cepat proses installasinya', 'kenapa tidak bisa top up bos?', 'suka suka suka']\n",
            "\n"
          ]
        }
      ]
    },
    {
      "cell_type": "markdown",
      "source": [
        "**Output 2**"
      ],
      "metadata": {
        "id": "b9nxYR0S-H4n"
      }
    },
    {
      "cell_type": "code",
      "source": [
        "# Text: Data Mining dan Contoh Penerapannya untuk Perusahaan\n",
        "# From: https://pacmann.io/blog/data-mining-dan-contoh-penerapannya-untuk-perusahaan\n",
        "doc_text = [\n",
        "    ['Dewasa ini, data mining sudah digunakan nyaris di berbagai industri.'],\n",
        "    ['Seiring budaya informasi berbasis data kian menguat, peran data mining juga semakin vital bagi bisnis.'],\n",
        "    ['Dengan data mining, perusahaan mampu menggali informasi berharga mengenai perilaku konsumen, tren industri, dan masih banyak lagi.'],\n",
        "    ['Berikut adalah beberapa di antaranya'],\n",
        "    ['Mengumpulkan informasi yang reliabel dan faktual'],\n",
        "    ['Mendeteksi dan mencegah penipuan'],\n",
        "    ['Mengidentifikasi risiko'],\n",
        "    ['Merespon perubahan tren dalam industri'],\n",
        "    ['Membuat keputusan yang berbasis data'],\n",
        "    ['Meningkatkan hubungan dengan konsumen'],\n",
        "    ['Kendati demikian, proses data mining juga tidak selalu berjalan sesuai harapan.'],\n",
        "    ['Ada beberapa permasalahan yang kerap ditemui dalam data mining di perusahaan.']\n",
        "]\n",
        "\n",
        "# Create a Mapper object\n",
        "map_obj = Mapper()\n",
        "\n",
        "# Fit the mapper\n",
        "map_obj.fit(doc_text)\n",
        "print('Bag of Words:')\n",
        "print(map_obj.bag_of_words)\n",
        "print('')\n",
        "print('Word to Index:')\n",
        "print(map_obj.word_to_index)\n",
        "print('')\n",
        "\n",
        "# Transform the reviews\n",
        "text_transformed = map_obj.transform(doc_text)\n",
        "print('Transformed text:')\n",
        "print(text_transformed)\n",
        "print('')\n",
        "\n",
        "\n",
        "# Inverse transform the transformed text\n",
        "text_inv_transformed = map_obj.inverse_transform(text_transformed)\n",
        "print('Inverse transformed text:')\n",
        "print(text_inv_transformed)\n",
        "print('')"
      ],
      "metadata": {
        "colab": {
          "base_uri": "https://localhost:8080/"
        },
        "id": "fkC2jN-Nk90X",
        "outputId": "00b5015c-f4be-486a-acc0-2c8e56005d96"
      },
      "execution_count": 159,
      "outputs": [
        {
          "output_type": "stream",
          "name": "stdout",
          "text": [
            "Bag of Words:\n",
            "['ada', 'adalah', 'antaranya', 'bagi', 'banyak', 'beberapa', 'berbagai', 'berbasis', 'berharga', 'berikut', 'berjalan', 'bisnis.', 'budaya', 'dalam', 'dan', 'data', 'demikian,', 'dengan', 'dewasa', 'di', 'digunakan', 'ditemui', 'faktual', 'harapan.', 'hubungan', 'industri', 'industri,', 'industri.', 'informasi', 'ini,', 'juga', 'kendati', 'keputusan', 'kerap', 'kian', 'konsumen', 'konsumen,', 'lagi.', 'mampu', 'masih', 'membuat', 'mencegah', 'mendeteksi', 'mengenai', 'menggali', 'mengidentifikasi', 'menguat,', 'mengumpulkan', 'meningkatkan', 'merespon', 'mining', 'mining,', 'nyaris', 'penipuan', 'peran', 'perilaku', 'permasalahan', 'perubahan', 'perusahaan', 'perusahaan.', 'proses', 'reliabel', 'risiko', 'seiring', 'selalu', 'semakin', 'sesuai', 'sudah', 'tidak', 'tren', 'vital', 'yang']\n",
            "\n",
            "Word to Index:\n",
            "{'ada': 0, 'adalah': 1, 'antaranya': 2, 'bagi': 3, 'banyak': 4, 'beberapa': 5, 'berbagai': 6, 'berbasis': 7, 'berharga': 8, 'berikut': 9, 'berjalan': 10, 'bisnis.': 11, 'budaya': 12, 'dalam': 13, 'dan': 14, 'data': 15, 'demikian,': 16, 'dengan': 17, 'dewasa': 18, 'di': 19, 'digunakan': 20, 'ditemui': 21, 'faktual': 22, 'harapan.': 23, 'hubungan': 24, 'industri': 25, 'industri,': 26, 'industri.': 27, 'informasi': 28, 'ini,': 29, 'juga': 30, 'kendati': 31, 'keputusan': 32, 'kerap': 33, 'kian': 34, 'konsumen': 35, 'konsumen,': 36, 'lagi.': 37, 'mampu': 38, 'masih': 39, 'membuat': 40, 'mencegah': 41, 'mendeteksi': 42, 'mengenai': 43, 'menggali': 44, 'mengidentifikasi': 45, 'menguat,': 46, 'mengumpulkan': 47, 'meningkatkan': 48, 'merespon': 49, 'mining': 50, 'mining,': 51, 'nyaris': 52, 'penipuan': 53, 'peran': 54, 'perilaku': 55, 'permasalahan': 56, 'perubahan': 57, 'perusahaan': 58, 'perusahaan.': 59, 'proses': 60, 'reliabel': 61, 'risiko': 62, 'seiring': 63, 'selalu': 64, 'semakin': 65, 'sesuai': 66, 'sudah': 67, 'tidak': 68, 'tren': 69, 'vital': 70, 'yang': 71}\n",
            "\n",
            "Transformed text:\n",
            "[[18, 29, 15, 50, 67, 20, 52, 19, 6, 27], [63, 12, 28, 7, 15, 34, 46, 54, 15, 50, 30, 65, 70, 3, 11], [17, 15, 51, 58, 38, 44, 28, 8, 43, 55, 36, 69, 26, 14, 39, 4, 37], [9, 1, 5, 19, 2], [47, 28, 71, 61, 14, 22], [42, 14, 41, 53], [45, 62], [49, 57, 69, 13, 25], [40, 32, 71, 7, 15], [48, 24, 17, 35], [31, 16, 60, 15, 50, 30, 68, 64, 10, 66, 23], [0, 5, 56, 71, 33, 21, 13, 15, 50, 19, 59]]\n",
            "\n",
            "Inverse transformed text:\n",
            "['dewasa ini, data mining sudah digunakan nyaris di berbagai industri.', 'seiring budaya informasi berbasis data kian menguat, peran data mining juga semakin vital bagi bisnis.', 'dengan data mining, perusahaan mampu menggali informasi berharga mengenai perilaku konsumen, tren industri, dan masih banyak lagi.', 'berikut adalah beberapa di antaranya', 'mengumpulkan informasi yang reliabel dan faktual', 'mendeteksi dan mencegah penipuan', 'mengidentifikasi risiko', 'merespon perubahan tren dalam industri', 'membuat keputusan yang berbasis data', 'meningkatkan hubungan dengan konsumen', 'kendati demikian, proses data mining juga tidak selalu berjalan sesuai harapan.', 'ada beberapa permasalahan yang kerap ditemui dalam data mining di perusahaan.']\n",
            "\n"
          ]
        }
      ]
    },
    {
      "cell_type": "markdown",
      "source": [
        "# Task 4. Debug this code\n",
        "\n",
        "Category: Easy\n",
        "\n",
        "---"
      ],
      "metadata": {
        "id": "xsUAqsjvIBVH"
      }
    },
    {
      "cell_type": "markdown",
      "source": [
        "## Task 4.1\n",
        "---\n",
        "\n",
        "Below is a code to extract email with domain `@pacmannai.com` from mailing list to a new mailing list"
      ],
      "metadata": {
        "id": "-boMqGSZKWrn"
      }
    },
    {
      "cell_type": "code",
      "source": [
        "# Debug this code\n",
        "def is_domain(email, domain_ref):\n",
        "\t'''return whether the given email has domain_ref, e.g. '@pacmannai.com' '''\n",
        "\tif email.split('@')[0] == domain_ref:\n",
        "\t\treturn True\n",
        "\telse:\n",
        "\t\treturn False\n",
        "\n",
        "def extract_domain(mail_list, domain_ref):\n",
        "\t'''return list of mail that has specific domain'''\n",
        "\tcorrect_mail_list = []\n",
        "\n",
        "\tfor mail in mail_list:\n",
        "\t\tcorrect_mail_list.append(is_domain(domain_ref, mail_list))\n",
        "\n",
        "\treturn correct_mail_list\n",
        "\n",
        "# Set the input\n",
        "mail_list = [\n",
        "\t  'abc@pacmannai.com',\n",
        "\t  'def@pacmann_ai.com',\n",
        "\t  'ghi@pacmannai.co.id',\n",
        "\t  'jkl@gmail.com',\n",
        "\t  'por@gmail.com',\n",
        "\t  'pacmannai@gmail.com',\n",
        "\t  'drive@gmail.com'\n",
        "]\n",
        "\n",
        "# Run the function\n",
        "res = extract_domain(mail_list, domain_ref)\n",
        "print(res)"
      ],
      "metadata": {
        "colab": {
          "base_uri": "https://localhost:8080/",
          "height": 231
        },
        "id": "XBZMVr7mKWro",
        "outputId": "d2ec4174-7809-41bd-9a2f-a1bef2a32217"
      },
      "execution_count": null,
      "outputs": [
        {
          "output_type": "error",
          "ename": "NameError",
          "evalue": "ignored",
          "traceback": [
            "\u001b[0;31m---------------------------------------------------------------------------\u001b[0m",
            "\u001b[0;31mNameError\u001b[0m                                 Traceback (most recent call last)",
            "\u001b[0;32m<ipython-input-2-45d2e608b12d>\u001b[0m in \u001b[0;36m<cell line: 30>\u001b[0;34m()\u001b[0m\n\u001b[1;32m     28\u001b[0m \u001b[0;34m\u001b[0m\u001b[0m\n\u001b[1;32m     29\u001b[0m \u001b[0;31m# Run the function\u001b[0m\u001b[0;34m\u001b[0m\u001b[0;34m\u001b[0m\u001b[0m\n\u001b[0;32m---> 30\u001b[0;31m \u001b[0mres\u001b[0m \u001b[0;34m=\u001b[0m \u001b[0mextract_domain\u001b[0m\u001b[0;34m(\u001b[0m\u001b[0mmail_list\u001b[0m\u001b[0;34m,\u001b[0m \u001b[0mdomain_ref\u001b[0m\u001b[0;34m)\u001b[0m\u001b[0;34m\u001b[0m\u001b[0;34m\u001b[0m\u001b[0m\n\u001b[0m\u001b[1;32m     31\u001b[0m \u001b[0mprint\u001b[0m\u001b[0;34m(\u001b[0m\u001b[0mres\u001b[0m\u001b[0;34m)\u001b[0m\u001b[0;34m\u001b[0m\u001b[0;34m\u001b[0m\u001b[0m\n",
            "\u001b[0;31mNameError\u001b[0m: name 'domain_ref' is not defined"
          ]
        }
      ]
    },
    {
      "cell_type": "markdown",
      "source": [
        "## Task 4.2\n",
        "---\n",
        "\n",
        "Below is a code to calculate a negative log-likelihood (NLL) from given actual value ($y_{i}$) & predicted probability ($P_{i}$)\n",
        "\n",
        "$$\n",
        "\\text{NLL} =\n",
        "-\\cfrac{1}{N}\n",
        "\\sum_{i=1}^{N}\n",
        "\\left(\n",
        "    y_{i} \\log (P_{i})\n",
        "    +\n",
        "    (1 - y_{i}) \\log (1 - P_{i})\n",
        "\\right)\n",
        "$$"
      ],
      "metadata": {
        "id": "2wXfc46gMBph"
      }
    },
    {
      "cell_type": "code",
      "source": [
        "# Debug this code\n",
        "import math\n",
        "\n",
        "def nll(actual, predicted_proba):\n",
        "\t'''return the negative loglikelihood. Return NLL (float)'''\n",
        "\tN = len(actual)\n",
        "    nll = -(1/N) * (actual * math.log(predicted_proba) + (1-actual) * (1 - math.log(predicted_proba)))\n",
        "\treturn nll\n",
        "\n",
        "\n",
        "# Input\n",
        "actual = [1, 0, 0, 1, 1]\n",
        "predicted_proba = [0.9, 0.1, 0.05, 0.8, 0.7]\n",
        "\n",
        "res = nll(actual, predicted_proba)\n",
        "print(res)\n",
        "# Should be 0.16836656419122908"
      ],
      "metadata": {
        "id": "9NS3UtvJMBpi",
        "colab": {
          "base_uri": "https://localhost:8080/",
          "height": 142
        },
        "outputId": "064ee046-cc5b-4b90-8a9e-384503adbd4c"
      },
      "execution_count": null,
      "outputs": [
        {
          "output_type": "error",
          "ename": "IndentationError",
          "evalue": "ignored",
          "traceback": [
            "\u001b[0;36m  File \u001b[0;32m\"<tokenize>\"\u001b[0;36m, line \u001b[0;32m7\u001b[0m\n\u001b[0;31m    nll = -(1/N) * (actual * math.log(predicted_proba) + (1-actual) * (1 - math.log(predicted_proba)))\u001b[0m\n\u001b[0m    ^\u001b[0m\n\u001b[0;31mIndentationError\u001b[0m\u001b[0;31m:\u001b[0m unindent does not match any outer indentation level\n"
          ]
        }
      ]
    },
    {
      "cell_type": "markdown",
      "source": [
        "# Task 5. Data Validation - 1\n",
        "\n",
        "Category: Medium\n",
        "\n",
        "---"
      ],
      "metadata": {
        "id": "zBwsNOpKirCd"
      }
    },
    {
      "cell_type": "markdown",
      "source": [
        "## Detail Function\n",
        "---\n",
        "- Create a function named `is_matrix_equal` to check whether two matrices are almost equal withing specific tolerance.\n",
        "\n",
        "- The input are\n",
        "  - `mat_1`, the first matrix, `list`, should be 2D\n",
        "  - `mat_2`, the second matrix, `list`, should be 2D\n",
        "  - `tol`, the specified tolerance.\n",
        "\n",
        "- The output are\n",
        "  - `status`, `True` if the two matrix are equal, else `False`\n",
        "  - Two matrices are equal in size when the number of rows & columns are similar.\n",
        "  - Two matrices are equal in value if the **absolute difference** of each element is lower than the given tolerance, `tol`.\n",
        "\n",
        "- Before checking the matrices, you should create a data defense (validation) that raise error to the user such as:\n",
        "  - `TypeError('<mat_xx> type error. Should be list')` if `mat_1` or/and `mat_2` is not `list`\n",
        "  - `TypeError('<mat_xx> should be 2D list')` if `mat_1` or/and `mat_2` is not a 2D list\n",
        "  - `ValueError('Mismatch number of rows')` or `ValueError('Mismatch number of columns')` if `mat_1` and `mat_2` is not have similar size."
      ],
      "metadata": {
        "id": "pfj7U8KG2sgu"
      }
    },
    {
      "cell_type": "markdown",
      "source": [
        "## Examples\n",
        "---"
      ],
      "metadata": {
        "id": "RG2Q-hHDnDzk"
      }
    },
    {
      "cell_type": "markdown",
      "source": [
        "**Input 1**\n",
        "\n",
        "```python\n",
        "mat_1 = [\n",
        "    [1, 2, 3],\n",
        "    [4, 5, 6]\n",
        "]\n",
        "mat_2 = None\n",
        "\n",
        "res = is_matrix_equal(mat_1, mat_2, tol=0.01)\n",
        "print(res)\n",
        "```\n",
        "\n",
        "**Output 1**\n",
        "```\n",
        "TypeError: mat_2 type error. Should be list\n",
        "```"
      ],
      "metadata": {
        "id": "dtc5RbOinDzk"
      }
    },
    {
      "cell_type": "markdown",
      "source": [
        "---\n",
        "**Input 2**\n",
        "\n",
        "```python\n",
        "mat_1 = None\n",
        "mat_2 = None\n",
        "\n",
        "res = is_matrix_equal(mat_1, mat_2, tol=0.01)\n",
        "print(res)\n",
        "```\n",
        "\n",
        "**Output 2**\n",
        "```\n",
        "TypeError: mat_1 type error. Should be list\n",
        "```"
      ],
      "metadata": {
        "id": "gbHY8FagnDzl"
      }
    },
    {
      "cell_type": "markdown",
      "source": [
        "---\n",
        "**Input 3**\n",
        "\n",
        "```python\n",
        "mat_1 = 3\n",
        "mat_2 = 4\n",
        "\n",
        "res = is_matrix_equal(mat_1, mat_2, tol=0.01)\n",
        "print(res)\n",
        "```\n",
        "\n",
        "**Output 3**\n",
        "```\n",
        "TypeError: mat_1 type error. Should be list\n",
        "```"
      ],
      "metadata": {
        "id": "hb12B-KEYGon"
      }
    },
    {
      "cell_type": "markdown",
      "source": [
        "---\n",
        "**Input 4**\n",
        "\n",
        "```python\n",
        "mat_1 = [[4, 3]]\n",
        "mat_2 = [[4, 3],\n",
        "         [1, 2]]\n",
        "\n",
        "res = is_matrix_equal(mat_1, mat_2, tol=0.01)\n",
        "print(res)\n",
        "```\n",
        "\n",
        "**Output 4**\n",
        "```\n",
        "ValueError: Mismatch number of rows\n",
        "```"
      ],
      "metadata": {
        "id": "eloGEUUiYQVH"
      }
    },
    {
      "cell_type": "markdown",
      "source": [
        "---\n",
        "**Input 5**\n",
        "\n",
        "```python\n",
        "mat_1 = [[4, 3],\n",
        "         [1, 2]]\n",
        "mat_2 = [[4, 3],\n",
        "         [1, 2]]\n",
        "\n",
        "res = is_matrix_equal(mat_1, mat_2, tol=0.01)\n",
        "print(res)\n",
        "```\n",
        "\n",
        "**Output 5**\n",
        "```\n",
        "True\n",
        "```"
      ],
      "metadata": {
        "id": "M_YKr0I7Yhlq"
      }
    },
    {
      "cell_type": "markdown",
      "source": [
        "---\n",
        "**Input 6**\n",
        "\n",
        "```python\n",
        "mat_1 = [[4.000, 3.005],\n",
        "         [1.000, 2.000]]\n",
        "mat_2 = [[4.001, 3.000],\n",
        "         [1.001, 1.995]]\n",
        "\n",
        "res = is_matrix_equal(mat_1, mat_2, tol=0.01)\n",
        "print(res)\n",
        "```\n",
        "\n",
        "**Output 6**\n",
        "```\n",
        "True\n",
        "```"
      ],
      "metadata": {
        "id": "L3nhXbzpYnHh"
      }
    },
    {
      "cell_type": "markdown",
      "source": [
        "---\n",
        "**Input 7**\n",
        "\n",
        "```python\n",
        "mat_1 = [[4.00, 3.05],\n",
        "         [1.00, 2.00]]\n",
        "mat_2 = [[4.01, 3.00],\n",
        "         [1.01, 1.95]]\n",
        "\n",
        "res = is_matrix_equal(mat_1, mat_2, tol=0.05)\n",
        "print(res)\n",
        "```\n",
        "\n",
        "**Output 7**\n",
        "```\n",
        "False\n",
        "```"
      ],
      "metadata": {
        "id": "kUguXtYhZJNo"
      }
    },
    {
      "cell_type": "markdown",
      "source": [
        "---\n",
        "**Input 8**\n",
        "```python\n",
        "mat_1 = [[4.00, '3.05'],\n",
        "         [1.00, 2.00]]\n",
        "mat_2 = [[4.01, 3.00],\n",
        "         [1.01, 1.95]]\n",
        "\n",
        "res = is_matrix_equal(mat_1, mat_2, tol=0.05)\n",
        "print(res)\n",
        "```\n",
        "\n",
        "**Output 8**\n",
        "```\n",
        "ValueError: Element of matrix mat_1 is not number\n",
        "```"
      ],
      "metadata": {
        "id": "2RDu3odG2jHu"
      }
    },
    {
      "cell_type": "markdown",
      "source": [
        "## Answer\n",
        "\n",
        "---\n",
        "- Provide the code for solving the problem\n",
        "- **Make sure your function follows the `Detail Function`**"
      ],
      "metadata": {
        "id": "8N_F1Qv2nDzp"
      }
    },
    {
      "cell_type": "code",
      "execution_count": null,
      "metadata": {
        "id": "PbnWoi3vnDzp"
      },
      "outputs": [],
      "source": [
        "# Write your code here\n",
        "# Note: You can write your input manually\n",
        "..."
      ]
    },
    {
      "cell_type": "markdown",
      "source": [
        "# Task 6. Data Validation - 2\n",
        "\n",
        "Category: Hard\n",
        "\n",
        "---"
      ],
      "metadata": {
        "id": "D3nQIQPWnIu9"
      }
    },
    {
      "cell_type": "markdown",
      "source": [
        "## Task Descriptions\n",
        "---\n",
        "- Create a function to validate the given input and return\n",
        "  - `clean_data` (list), contain the cleaned data\n",
        "  - `error_msg` (dictionary), contain data error rows & its error message\n",
        "    - example 1:\n",
        "    ```python\n",
        "    # The error is in data\n",
        "    {\n",
        "        'Mismatch input type'\n",
        "    }\n",
        "    ```\n",
        "    - example 2:\n",
        "    ```python\n",
        "    # The error is in data rows\n",
        "    {\n",
        "        1: ['Mismatch input type on col:id'],\n",
        "        5: ['Mismatch input type on col:id', 'None value in col:id', 'Negative value in col:revenue'],\n",
        "        12: ['Mismatch col:id type']\n",
        "    }\n",
        "    ```\n"
      ],
      "metadata": {
        "id": "5XEVWPiMnIu-"
      }
    },
    {
      "cell_type": "markdown",
      "source": [
        "## Task Descriptions\n",
        "---\n",
        "\n",
        "- Create a function to validate the given input and return\n",
        "  - If the data is validated, return the given data & empty list of error, e.g.\n",
        "  ```python\n",
        "    {\n",
        "        \"data\": [\n",
        "            [\n",
        "                \"id\",\n",
        "                \"sales\",\n",
        "                \"revenue\"\n",
        "            ],\n",
        "            [\n",
        "                \"ab01\",\n",
        "                2,\n",
        "                3\n",
        "            ],\n",
        "            [\n",
        "                \"de02\",\n",
        "                4,\n",
        "                5\n",
        "            ]\n",
        "        ],\n",
        "        \"error\": []\n",
        "    }\n",
        "  ```\n",
        "  - If the data is failed to validate, return `None` on data and what's the error message, e.g.\n",
        "  ```python\n",
        "    {\n",
        "        \"data\": null,\n",
        "        \"error\": [\n",
        "            {\n",
        "                \"index\": 1,\n",
        "                \"error\": [\n",
        "                    \"None value on col:revenue\"\n",
        "                ]\n",
        "            },\n",
        "            {\n",
        "                \"index\": 2,\n",
        "                \"error\": [\n",
        "                    \"Mismatch input type on col:sales. Should be a number\",\n",
        "                    \"None value on col:revenue\"\n",
        "                ]\n",
        "            }\n",
        "        ]\n",
        "    }\n",
        "  ```"
      ],
      "metadata": {
        "id": "Fe2d_TwSakNs"
      }
    },
    {
      "cell_type": "markdown",
      "source": [
        "- The data is valid if\n",
        "  - A 2D `list` type (have rows & columns).\n",
        "  - Have three columns, i.e. `'id'`, `'sales'`, `'revenue'`\n",
        "  - The first row is the columns name.\n",
        "  - The `'id'` data is a str, the `'sales'` and `'revenue'` are numbers.\n",
        "  - The data should not have `None` value.\n",
        "  - The `sales` and `revenue` should be greater or equal than 0."
      ],
      "metadata": {
        "id": "7uMd3jXBe8EI"
      }
    },
    {
      "cell_type": "markdown",
      "source": [
        "## Detail function\n",
        "---"
      ],
      "metadata": {
        "id": "lyLKi4pSnIu_"
      }
    },
    {
      "cell_type": "markdown",
      "source": [
        "- Create function named `validate_data`\n",
        "- Have 1 input called `raw_data` (list)\n",
        "- Validate the data according to the task descriptions\n",
        "- Return a validation summary (`dict`) according to the examples\n",
        "- Type of error:\n",
        "  - `Mismatch input type`; if the `raw_data` is not list\n",
        "  - `Mismatch input size. The data is not in 2D`; if the `raw_data` is not a 2D list\n",
        "  - `Mismatch number of columns`; if the `raw_data` and each row does not have 3 columns\n",
        "  - `Mismatch data columns name`; if the `raw_data` col names is not `['id', 'sales', 'revenue']`\n",
        "  - `Mismatch data columns sequence`; if the `raw_data` col names is not in the right sequence\n",
        "  - `Mismatch input type on col:<col_names>`; if the element type is not correct\n",
        "  - `None value on col:<col_names>`; if the element value is `None`\n",
        "  - `Negative value on col:<col_names>`; if the element value is less than zero"
      ],
      "metadata": {
        "id": "YAoQuv7XnIu_"
      }
    },
    {
      "cell_type": "markdown",
      "source": [
        "## Examples\n",
        "---"
      ],
      "metadata": {
        "id": "-ViTHAI0nIu_"
      }
    },
    {
      "cell_type": "markdown",
      "source": [
        "**Input 1**\n",
        "\n",
        "```python\n",
        "raw_data = []\n",
        "\n",
        "data_val = validate_data(raw_data)\n",
        "\n",
        "# Json Dumps\n",
        "import json\n",
        "print(json.dumps(data_val, indent=4))\n",
        "```\n",
        "\n",
        "**Output 1**\n",
        "```\n",
        "{\n",
        "    \"data\": null,\n",
        "    \"error\": \"Mismatch input size. The data is not in 2D\"\n",
        "}\n",
        "```"
      ],
      "metadata": {
        "id": "V44UzZZanIvA"
      }
    },
    {
      "cell_type": "markdown",
      "source": [
        "---\n",
        "**Input 2**\n",
        "\n",
        "```python\n",
        "raw_data = [['a', 'b', 'c']]\n",
        "\n",
        "data_val = validate_data(raw_data)\n",
        "\n",
        "# Json Dumps\n",
        "import json\n",
        "print(json.dumps(data_val, indent=4))\n",
        "```\n",
        "\n",
        "**Output 2**\n",
        "```\n",
        "{\n",
        "    \"data\": null,\n",
        "    \"error\": \"Mismatch data columns name\"\n",
        "}\n",
        "```"
      ],
      "metadata": {
        "id": "bVwr2LyxnIvA"
      }
    },
    {
      "cell_type": "markdown",
      "source": [
        "---\n",
        "**Input 3**\n",
        "\n",
        "```python\n",
        "raw_data = [['id', 'sales', 'revenue'],\n",
        "            [3, 2]]\n",
        "\n",
        "data_val = validate_data(raw_data)\n",
        "\n",
        "# Json Dumps\n",
        "import json\n",
        "print(json.dumps(data_val, indent=4))\n",
        "```\n",
        "\n",
        "**Output 3**\n",
        "```\n",
        "{\n",
        "    \"data\": null,\n",
        "    \"error\": \"Mismatch number of columns\"\n",
        "}\n",
        "```"
      ],
      "metadata": {
        "id": "ueLMt6D9nIvA"
      }
    },
    {
      "cell_type": "markdown",
      "source": [
        "---\n",
        "**Input 4**\n",
        "\n",
        "```python\n",
        "raw_data = [['id', 'revenue', 'sales'],\n",
        "            ['as32', 3, 2],\n",
        "            ['pc43', 5, 2]]\n",
        "\n",
        "data_val = validate_data(raw_data)\n",
        "\n",
        "# Json Dumps\n",
        "import json\n",
        "print(json.dumps(data_val, indent=4))\n",
        "```\n",
        "\n",
        "**Output 4**\n",
        "```\n",
        "{\n",
        "    \"data\": null,\n",
        "    \"error\": \"Mismatch data columns sequence\"\n",
        "}\n",
        "```"
      ],
      "metadata": {
        "id": "XA7x8bzzghMV"
      }
    },
    {
      "cell_type": "markdown",
      "source": [
        "---\n",
        "**Input 5**\n",
        "\n",
        "```python\n",
        "raw_data = [['id', 'sales', 'revenue'],\n",
        "            ['as32', 3, 2],\n",
        "            ['pc43', 5, 2]]\n",
        "\n",
        "data_val = validate_data(raw_data)\n",
        "\n",
        "# Json Dumps\n",
        "import json\n",
        "print(json.dumps(data_val, indent=4))\n",
        "```\n",
        "\n",
        "**Output 5**\n",
        "```\n",
        "{\n",
        "    \"data\": [\n",
        "        [\n",
        "            \"id\",\n",
        "            \"sales\",\n",
        "            \"revenue\"\n",
        "        ],\n",
        "        [\n",
        "            \"as32\",\n",
        "            3,\n",
        "            2\n",
        "        ],\n",
        "        [\n",
        "            \"pc43\",\n",
        "            5,\n",
        "            2\n",
        "        ]\n",
        "    ],\n",
        "    \"error\": []\n",
        "}\n",
        "```"
      ],
      "metadata": {
        "id": "NpYqgqK5ghMt"
      }
    },
    {
      "cell_type": "markdown",
      "source": [
        "---\n",
        "**Input 6**\n",
        "\n",
        "```python\n",
        "raw_data = [['id', 'sales', 'revenue'],\n",
        "            ['as32', 3, 2],\n",
        "            ['pc43', 5, 2],\n",
        "            [None, 4, '2'],\n",
        "            ['ds32', 5, 10],\n",
        "            ['ab41', None, 's']]\n",
        "\n",
        "data_val = validate_data(raw_data)\n",
        "\n",
        "# Json Dumps\n",
        "import json\n",
        "print(json.dumps(data_val, indent=4))\n",
        "```\n",
        "\n",
        "**Output 6**\n",
        "```\n",
        "{\n",
        "    \"data\": null,\n",
        "    \"error\": [\n",
        "        {\n",
        "            \"index\": 3,\n",
        "            \"error\": [\n",
        "                \"None value on col:id\",\n",
        "                \"Mismatch input type on col:revenue. Should be a number\"\n",
        "            ]\n",
        "        },\n",
        "        {\n",
        "            \"index\": 5,\n",
        "            \"error\": [\n",
        "                \"None value on col:sales\",\n",
        "                \"Mismatch input type on col:revenue. Should be a number\"\n",
        "            ]\n",
        "        }\n",
        "    ]\n",
        "}\n",
        "```"
      ],
      "metadata": {
        "id": "PPMJQ6H9ghMt"
      }
    },
    {
      "cell_type": "markdown",
      "source": [
        "## Answer\n",
        "\n",
        "---\n",
        "- Provide the code for solving the problem\n",
        "- **Make sure your function follows the `Detail Function`**"
      ],
      "metadata": {
        "id": "GKLvaQWbnIvD"
      }
    },
    {
      "cell_type": "code",
      "execution_count": null,
      "metadata": {
        "id": "BP9Yt9yynIvD"
      },
      "outputs": [],
      "source": [
        "# Write your code here\n",
        "# Note: You can write your input manually\n",
        "..."
      ]
    }
  ]
}